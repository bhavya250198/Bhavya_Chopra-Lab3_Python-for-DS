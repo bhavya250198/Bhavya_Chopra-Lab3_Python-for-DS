{
 "cells": [
  {
   "cell_type": "markdown",
   "id": "fcbd582c",
   "metadata": {
    "id": "fcbd582c"
   },
   "source": [
    "## Learning Outcomes\n",
    "- Exploratory data analysis & preparing the data for model building. \n",
    "- Machine Learning - Supervised Learning Classification\n",
    "  - Logistic Regression\n",
    "  - Naive bayes Classifier\n",
    "  - KNN Classifier\n",
    "  - Decision Tree Classifier\n",
    "  - Random Forest Classifier\n",
    "  - Ensemble methods\n",
    "- Training and making predictions using different classification models.\n",
    "- Model evaluation"
   ]
  },
  {
   "cell_type": "markdown",
   "id": "f2e961f9",
   "metadata": {
    "id": "f2e961f9"
   },
   "source": [
    "## Objective: \n",
    "- The Classification goal is to predict “heart disease” in a person with regards to different factors given. \n",
    "\n",
    "## Context:\n",
    "- Heart disease is one of the leading causes of death for people of most races in the US. At least 1 of 3 key risk factors for heart disease: high blood pressure, high cholesterol, and smoking. \n",
    "- Detecting and preventing the factors that have the greatest impact on heart disease is very important in healthcare. Machine learning methods may detect \"patterns\" from the data and can predict whether a patient is suffering from any heart disease or not..\n",
    "\n",
    "## Dataset Information\n",
    "\n",
    "#### Source: https://www.kaggle.com/datasets/kamilpytlak/personal-key-indicators-of-heart-disease?datasetId=1936563&sortBy=voteCount\n",
    "Originally, the dataset come from the CDC and is a major part of the Behavioral Risk Factor Surveillance System (BRFSS), which conducts annual telephone surveys to gather data on the health status of U.S. residents. \n",
    "\n",
    "This dataset consists of eighteen columns\n",
    "- HeartDisease: Respondents that have ever reported having coronary heart disease (CHD) or myocardial infarction (MI)\n",
    "- BMI: Body Mass Index (BMI)\n",
    "- Smoking: smoked at least 100 cigarettes in your entire life\n",
    "- AlcoholDrinking: Heavy drinkers (adult men having more than 14 drinks per week and adult women having more than 7 drinks per week\n",
    "- Stroke:Ever had a stroke?\n",
    "- PhysicalHealth: physical health, which includes physical illness and injury\n",
    "- MentalHealth: for how many days during the past 30 days was your mental health not good?\n",
    "- DiffWalking: Do you have serious difficulty walking or climbing stairs?\n",
    "- Sex: male or female?\n",
    "- AgeCategory: Fourteen-level age category\n",
    "- Race: Imputed race/ethnicity value\n",
    "- Diabetic: diabetes?\n",
    "- PhysicalActivity: Adults who reported doing physical activity or exercise during the past 30 days other than their regular job\n",
    "- GenHealth: Would you say that in general your health is good, fine or excellent?\n",
    "- SleepTime: On average, how many hours of sleep do you get in a 24-hour period?\n",
    "- Asthma: you had asthma?\n",
    "- KidneyDisease: Not including kidney stones, bladder infection or incontinence, were you ever told you had kidney disease?\n",
    "- SkinCancer: Ever had skin cancer?"
   ]
  },
  {
   "cell_type": "markdown",
   "id": "f8617014",
   "metadata": {
    "id": "f8617014"
   },
   "source": [
    "### 1. Importing Libraries"
   ]
  },
  {
   "cell_type": "code",
   "execution_count": 28,
   "id": "c7172d3b",
   "metadata": {
    "id": "c7172d3b"
   },
   "outputs": [],
   "source": [
    "import pandas as pd\n",
    "import matplotlib.pyplot as plt\n",
    "import seaborn as sns\n",
    "from sklearn.preprocessing import LabelEncoder\n"
   ]
  },
  {
   "cell_type": "markdown",
   "id": "8fe1a778",
   "metadata": {
    "id": "8fe1a778"
   },
   "source": [
    "### 2. Load the dataset and display a sample of five rows of the data frame."
   ]
  },
  {
   "cell_type": "code",
   "execution_count": 5,
   "id": "70984f5f",
   "metadata": {
    "id": "70984f5f"
   },
   "outputs": [
    {
     "name": "stdout",
     "output_type": "stream",
     "text": [
      "       HeartDisease    BMI Smoking AlcoholDrinking Stroke  PhysicalHealth  \\\n",
      "273549           No  28.48     Yes              No     No             0.0   \n",
      "107781           No  20.67      No              No     No             0.0   \n",
      "175635           No  24.13     Yes              No    Yes             0.0   \n",
      "70296            No  21.93     Yes              No     No             4.0   \n",
      "23330            No  30.50     Yes              No     No             7.0   \n",
      "\n",
      "        MentalHealth DiffWalking     Sex  AgeCategory   Race Diabetic  \\\n",
      "273549           0.0          No    Male        30-34  White       No   \n",
      "107781           0.0          No    Male  80 or older  White       No   \n",
      "175635           0.0          No  Female        60-64  White       No   \n",
      "70296            5.0          No  Female        40-44  White       No   \n",
      "23330            3.0         Yes  Female        65-69  White       No   \n",
      "\n",
      "       PhysicalActivity  GenHealth  SleepTime Asthma KidneyDisease SkinCancer  \n",
      "273549              Yes  Excellent       10.0     No            No         No  \n",
      "107781              Yes       Good        8.0     No            No         No  \n",
      "175635              Yes       Fair        7.0     No            No         No  \n",
      "70296               Yes       Good        6.0     No            No         No  \n",
      "23330                No       Good        7.0     No            No        Yes  \n"
     ]
    }
   ],
   "source": [
    "file_path = \"C:/Users/ASUS-NB/Downloads/heart_2020_cleaned.csv\"\n",
    "df = pd.read_csv(file_path)\n",
    "sample = df.sample(5)\n",
    "print(sample)"
   ]
  },
  {
   "cell_type": "markdown",
   "id": "eda763be",
   "metadata": {
    "id": "eda763be"
   },
   "source": [
    "### 3. Check the shape of the data (number of rows and columns). Check the general information about the dataframe using the .info() method."
   ]
  },
  {
   "cell_type": "code",
   "execution_count": 7,
   "id": "c246297d",
   "metadata": {
    "id": "c246297d"
   },
   "outputs": [
    {
     "name": "stdout",
     "output_type": "stream",
     "text": [
      "(319795, 18)\n",
      "<class 'pandas.core.frame.DataFrame'>\n",
      "RangeIndex: 319795 entries, 0 to 319794\n",
      "Data columns (total 18 columns):\n",
      " #   Column            Non-Null Count   Dtype  \n",
      "---  ------            --------------   -----  \n",
      " 0   HeartDisease      319795 non-null  object \n",
      " 1   BMI               319795 non-null  float64\n",
      " 2   Smoking           319795 non-null  object \n",
      " 3   AlcoholDrinking   319795 non-null  object \n",
      " 4   Stroke            319795 non-null  object \n",
      " 5   PhysicalHealth    319795 non-null  float64\n",
      " 6   MentalHealth      319795 non-null  float64\n",
      " 7   DiffWalking       319795 non-null  object \n",
      " 8   Sex               319795 non-null  object \n",
      " 9   AgeCategory       319795 non-null  object \n",
      " 10  Race              319795 non-null  object \n",
      " 11  Diabetic          319795 non-null  object \n",
      " 12  PhysicalActivity  319795 non-null  object \n",
      " 13  GenHealth         319795 non-null  object \n",
      " 14  SleepTime         319795 non-null  float64\n",
      " 15  Asthma            319795 non-null  object \n",
      " 16  KidneyDisease     319795 non-null  object \n",
      " 17  SkinCancer        319795 non-null  object \n",
      "dtypes: float64(4), object(14)\n",
      "memory usage: 43.9+ MB\n"
     ]
    }
   ],
   "source": [
    "print(df.shape)\n",
    "df.info()\n"
   ]
  },
  {
   "cell_type": "markdown",
   "id": "b8470476",
   "metadata": {
    "id": "b8470476"
   },
   "source": [
    "### 4. Check the statistical summary of the dataset and write your inferences."
   ]
  },
  {
   "cell_type": "code",
   "execution_count": 8,
   "id": "b28786f2",
   "metadata": {
    "id": "b28786f2"
   },
   "outputs": [
    {
     "name": "stdout",
     "output_type": "stream",
     "text": [
      "                 BMI  PhysicalHealth   MentalHealth      SleepTime\n",
      "count  319795.000000    319795.00000  319795.000000  319795.000000\n",
      "mean       28.325399         3.37171       3.898366       7.097075\n",
      "std         6.356100         7.95085       7.955235       1.436007\n",
      "min        12.020000         0.00000       0.000000       1.000000\n",
      "25%        24.030000         0.00000       0.000000       6.000000\n",
      "50%        27.340000         0.00000       0.000000       7.000000\n",
      "75%        31.420000         2.00000       3.000000       8.000000\n",
      "max        94.850000        30.00000      30.000000      24.000000\n"
     ]
    }
   ],
   "source": [
    "summary=df.describe()\n",
    "print(summary)"
   ]
  },
  {
   "cell_type": "markdown",
   "id": "25d21a69",
   "metadata": {
    "id": "25d21a69"
   },
   "source": [
    "### 5. Check the percentage of missing values in each column of the data frame. Drop the missing values if there are any."
   ]
  },
  {
   "cell_type": "code",
   "execution_count": 11,
   "id": "20d33888",
   "metadata": {
    "id": "20d33888"
   },
   "outputs": [
    {
     "name": "stdout",
     "output_type": "stream",
     "text": [
      "(319795, 18)\n"
     ]
    }
   ],
   "source": [
    "missing_percentages = df.isnull().mean() * 100\n",
    "# print(missing_percentages)\n",
    "df_cleaned = df.dropna()\n",
    "print(df.shape)"
   ]
  },
  {
   "cell_type": "markdown",
   "id": "030b4016",
   "metadata": {
    "id": "030b4016"
   },
   "source": [
    "### 6. Check if there are any duplicate rows. If any drop them and check the shape of the dataframe after dropping duplicates."
   ]
  },
  {
   "cell_type": "code",
   "execution_count": 15,
   "id": "11f42ddc",
   "metadata": {
    "id": "11f42ddc"
   },
   "outputs": [
    {
     "name": "stdout",
     "output_type": "stream",
     "text": [
      "(301717, 18)\n"
     ]
    }
   ],
   "source": [
    "duplicate_rows = df[df.duplicated()]\n",
    "\n",
    "# Display the duplicate rows\n",
    "# print(\"Duplicate Rows:\")\n",
    "# print(duplicate_rows)\n",
    "\n",
    "# Drop duplicate rows\n",
    "df_no_duplicates = df.drop_duplicates()\n",
    "print(df_no_duplicates.shape)"
   ]
  },
  {
   "cell_type": "markdown",
   "id": "817d0f41",
   "metadata": {
    "id": "817d0f41"
   },
   "source": [
    "### 7. Check the distribution of the target variable (i.e. 'HeartDisease') and write your observations."
   ]
  },
  {
   "cell_type": "code",
   "execution_count": 21,
   "id": "62d1e2b3",
   "metadata": {
    "id": "62d1e2b3"
   },
   "outputs": [
    {
     "name": "stdout",
     "output_type": "stream",
     "text": [
      "No     292422\n",
      "Yes     27373\n",
      "Name: HeartDisease, dtype: int64\n"
     ]
    },
    {
     "data": {
      "image/png": "[encoded data removed]",
      "text/plain": [
       "<Figure size 800x600 with 1 Axes>"
      ]
     },
     "metadata": {},
     "output_type": "display_data"
    }
   ],
   "source": [
    "target_variable = 'HeartDisease'\n",
    "target_distribution = df[target_variable].value_counts()\n",
    "print(target_distribution)\n"
   ]
  },
  {
   "cell_type": "markdown",
   "id": "1cd33e88",
   "metadata": {
    "id": "1cd33e88"
   },
   "source": [
    "### 8. Visualize the distribution of the target column 'Heart disease' with respect to various categorical features and write your observations."
   ]
  },
  {
   "cell_type": "code",
   "execution_count": 22,
   "id": "888be5c5",
   "metadata": {
    "id": "888be5c5"
   },
   "outputs": [
    {
     "data": {
      "image/png": "[encoded data removed]",
      "text/plain": [
       "<Figure size 800x600 with 1 Axes>"
      ]
     },
     "metadata": {},
     "output_type": "display_data"
    }
   ],
   "source": [
    "plt.figure(figsize=(8, 6))\n",
    "sns.countplot(x=target_variable, data=df)\n",
    "plt.title('Distribution of the Target Variable')\n",
    "plt.show()"
   ]
  },
  {
   "cell_type": "markdown",
   "id": "11af76b7",
   "metadata": {
    "id": "11af76b7"
   },
   "source": [
    "### 9. Check the unique categories in the column 'Diabetic'. Replace 'Yes (during pregnancy)' as 'Yes' and 'No, borderline diabetes' as 'No'."
   ]
  },
  {
   "cell_type": "code",
   "execution_count": 25,
   "id": "86fccebe",
   "metadata": {
    "id": "86fccebe"
   },
   "outputs": [
    {
     "name": "stdout",
     "output_type": "stream",
     "text": [
      "['Yes' 'No']\n",
      "['Yes' 'No']\n"
     ]
    }
   ],
   "source": [
    "unique_categories = df['Diabetic'].unique()\n",
    "print(unique_categories)\n",
    "df['Diabetic'] = df['Diabetic'].replace({\n",
    "    'Yes (during pregnancy)': 'Yes',\n",
    "    'No, borderline diabetes': 'No'\n",
    "})\n",
    "print(df['Diabetic'].unique())"
   ]
  },
  {
   "cell_type": "markdown",
   "id": "e204cd08",
   "metadata": {
    "id": "e204cd08"
   },
   "source": [
    "### 10. For the target column 'HeartDiease', Replace 'No' as 0 and 'Yes' as 1. "
   ]
  },
  {
   "cell_type": "code",
   "execution_count": 27,
   "id": "22190734",
   "metadata": {
    "id": "22190734"
   },
   "outputs": [
    {
     "name": "stdout",
     "output_type": "stream",
     "text": [
      "['No' 'Yes']\n",
      "[0 1]\n"
     ]
    }
   ],
   "source": [
    "target_column='HeartDisease'\n",
    "uniques= df[target_column].unique()\n",
    "# print(uniques)\n",
    "df[target_column] = df[target_column].replace({\n",
    "    'No':0,\n",
    "    'Yes':1\n",
    "})\n",
    "print(df[target_column].unique())"
   ]
  },
  {
   "cell_type": "markdown",
   "id": "7cdb58cd",
   "metadata": {
    "id": "7cdb58cd"
   },
   "source": [
    "### 11. Label Encode the columns \"AgeCategory\", \"Race\", and \"GenHealth\". Encode the rest of the columns using dummy encoding approach."
   ]
  },
  {
   "cell_type": "code",
   "execution_count": 5,
   "id": "707747be",
   "metadata": {
    "id": "707747be"
   },
   "outputs": [
    {
     "name": "stdout",
     "output_type": "stream",
     "text": [
      "   AgeCategory  Race  GenHealth  HeartDisease_No  HeartDisease_Yes  BMI_12.02  \\\n",
      "0            7     5          4                1                 0          0   \n",
      "1           12     5          4                1                 0          0   \n",
      "2            9     5          1                1                 0          0   \n",
      "3           11     5          2                1                 0          0   \n",
      "4            4     5          4                1                 0          0   \n",
      "\n",
      "   BMI_12.08  BMI_12.13  BMI_12.16  BMI_12.2  ...  SleepTime_21.0  \\\n",
      "0          0          0          0         0  ...               0   \n",
      "1          0          0          0         0  ...               0   \n",
      "2          0          0          0         0  ...               0   \n",
      "3          0          0          0         0  ...               0   \n",
      "4          0          0          0         0  ...               0   \n",
      "\n",
      "   SleepTime_22.0  SleepTime_23.0  SleepTime_24.0  Asthma_No  Asthma_Yes  \\\n",
      "0               0               0               0          0           1   \n",
      "1               0               0               0          1           0   \n",
      "2               0               0               0          0           1   \n",
      "3               0               0               0          1           0   \n",
      "4               0               0               0          1           0   \n",
      "\n",
      "   KidneyDisease_No  KidneyDisease_Yes  SkinCancer_No  SkinCancer_Yes  \n",
      "0                 1                  0              0               1  \n",
      "1                 1                  0              1               0  \n",
      "2                 1                  0              1               0  \n",
      "3                 1                  0              0               1  \n",
      "4                 1                  0              1               0  \n",
      "\n",
      "[5 rows x 3717 columns]\n"
     ]
    }
   ],
   "source": [
    "import pandas as pd\n",
    "from sklearn.preprocessing import LabelEncoder\n",
    "file_path = \"C:/Users/ASUS-NB/Downloads/heart_2020_cleaned.csv\"\n",
    "df = pd.read_csv(file_path)\n",
    "label_encode_columns = [\"AgeCategory\", \"Race\", \"GenHealth\"]\n",
    "dummy_encode_columns = [col for col in df.columns if col not in label_encode_columns]\n",
    "\n",
    "label_encoder = LabelEncoder()\n",
    "df[label_encode_columns] = df[label_encode_columns].apply(lambda col: label_encoder.fit_transform(col))\n",
    "\n",
    "df = pd.get_dummies(df, columns=dummy_encode_columns)\n",
    "\n",
    "print(df.head())"
   ]
  },
  {
   "cell_type": "markdown",
   "id": "ddb3a715",
   "metadata": {
    "id": "ddb3a715"
   },
   "source": [
    "### 12. Store the target column (i.e.'HeartDisease') in the y variable and the rest of the columns in the X variable."
   ]
  },
  {
   "cell_type": "code",
   "execution_count": 7,
   "id": "9628128c",
   "metadata": {
    "id": "9628128c"
   },
   "outputs": [
    {
     "name": "stdout",
     "output_type": "stream",
     "text": [
      "Shape of X: (319795, 17)\n",
      "Shape of y: (319795,)\n"
     ]
    }
   ],
   "source": [
    "# Assuming 'HeartDisease' is the target column\n",
    "target_column = 'HeartDisease'\n",
    "import pandas as pd\n",
    "from sklearn.preprocessing import LabelEncoder\n",
    "file_path = \"C:/Users/ASUS-NB/Downloads/heart_2020_cleaned.csv\"\n",
    "df = pd.read_csv(file_path)\n",
    "# Store the target column in y\n",
    "y = df[target_column]\n",
    "\n",
    "# Store the rest of the columns in X\n",
    "X = df.drop(columns=[target_column])\n",
    "\n",
    "# Display the shapes of X and y\n",
    "print(\"Shape of X:\", X.shape)\n",
    "print(\"Shape of y:\", y.shape)"
   ]
  },
  {
   "cell_type": "markdown",
   "id": "68db6b1e",
   "metadata": {
    "id": "68db6b1e"
   },
   "source": [
    "### 13. Split the dataset into two parts (i.e. 70% train and 30% test) and print the shape of the train and test data"
   ]
  },
  {
   "cell_type": "code",
   "execution_count": 8,
   "id": "0077d21b",
   "metadata": {
    "id": "0077d21b"
   },
   "outputs": [
    {
     "name": "stdout",
     "output_type": "stream",
     "text": [
      "Shape of X_train: (223856, 17)\n",
      "Shape of X_test: (95939, 17)\n",
      "Shape of y_train: (223856,)\n",
      "Shape of y_test: (95939,)\n"
     ]
    }
   ],
   "source": [
    "from sklearn.model_selection import train_test_split\n",
    "\n",
    "\n",
    "test_size = 0.3\n",
    "\n",
    "\n",
    "X_train, X_test, y_train, y_test = train_test_split(X, y, test_size=test_size, random_state=42)\n",
    "\n",
    "\n",
    "print(\"Shape of X_train:\", X_train.shape)\n",
    "print(\"Shape of X_test:\", X_test.shape)\n",
    "print(\"Shape of y_train:\", y_train.shape)\n",
    "print(\"Shape of y_test:\", y_test.shape)\n"
   ]
  },
  {
   "cell_type": "markdown",
   "id": "495ea012",
   "metadata": {
    "id": "495ea012"
   },
   "source": [
    "### 14. Standardize the numerical columns using Standard Scalar approach for both train and test data."
   ]
  },
  {
   "cell_type": "code",
   "execution_count": 9,
   "id": "19357a7b",
   "metadata": {
    "id": "19357a7b"
   },
   "outputs": [
    {
     "name": "stdout",
     "output_type": "stream",
     "text": [
      "Standardized X_train:\n",
      "             BMI Smoking AlcoholDrinking Stroke  PhysicalHealth  MentalHealth  \\\n",
      "303145 -1.229576      No              No     No        0.080386     -0.490018   \n",
      "61634   0.391450      No              No     No       -0.423721     -0.490018   \n",
      "117690  0.877286      No              No     No       -0.423721     -0.490018   \n",
      "132104 -1.059769     Yes              No     No       -0.423721     -0.490018   \n",
      "262165 -0.405699      No              No     No       -0.423721     -0.490018   \n",
      "\n",
      "       DiffWalking     Sex  AgeCategory   Race Diabetic PhysicalActivity  \\\n",
      "303145          No  Female        45-49  White       No              Yes   \n",
      "61634           No  Female        70-74  Other      Yes              Yes   \n",
      "117690          No    Male        50-54  White      Yes              Yes   \n",
      "132104          No    Male  80 or older  White       No              Yes   \n",
      "262165          No  Female        75-79  White       No              Yes   \n",
      "\n",
      "        GenHealth  SleepTime Asthma KidneyDisease SkinCancer  \n",
      "303145  Excellent   0.628794     No            No         No  \n",
      "61634   Very good  -0.067283     No           Yes         No  \n",
      "117690       Good  -0.763360     No            No         No  \n",
      "132104  Very good   0.628794     No            No         No  \n",
      "262165  Very good  -0.067283    Yes            No         No  \n",
      "\n",
      "Standardized X_test:\n",
      "             BMI Smoking AlcoholDrinking Stroke  PhysicalHealth  MentalHealth  \\\n",
      "271884 -0.110109     Yes              No     No       -0.423721      2.651356   \n",
      "270361 -1.003167      No              No     No       -0.423721      2.023082   \n",
      "219060  0.470064     Yes              No     No       -0.423721     -0.490018   \n",
      "24010   1.889837      No              No     No        3.357083     -0.490018   \n",
      "181930  1.144574     Yes              No     No        3.357083      3.279631   \n",
      "\n",
      "       DiffWalking     Sex AgeCategory      Race Diabetic PhysicalActivity  \\\n",
      "271884          No  Female       25-29  Hispanic       No              Yes   \n",
      "270361          No  Female       30-34     White       No              Yes   \n",
      "219060          No  Female       40-44     White       No              Yes   \n",
      "24010           No  Female       65-69     White       No               No   \n",
      "181930         Yes  Female       60-64     White       No               No   \n",
      "\n",
      "        GenHealth  SleepTime Asthma KidneyDisease SkinCancer  \n",
      "271884  Very good  -0.067283     No            No         No  \n",
      "270361  Excellent  -0.763360     No            No        Yes  \n",
      "219060  Very good  -0.763360    Yes            No         No  \n",
      "24010        Good   0.628794     No            No         No  \n",
      "181930       Fair  -2.155515    Yes            No        Yes  \n"
     ]
    }
   ],
   "source": [
    "from sklearn.preprocessing import StandardScaler\n",
    "\n",
    "\n",
    "numerical_columns = X.select_dtypes(include=['int64', 'float64']).columns\n",
    "\n",
    "\n",
    "scaler = StandardScaler()\n",
    "\n",
    "\n",
    "X_train[numerical_columns] = scaler.fit_transform(X_train[numerical_columns])\n",
    "\n",
    "\n",
    "X_test[numerical_columns] = scaler.transform(X_test[numerical_columns])\n",
    "\n",
    "\n",
    "print(\"Standardized X_train:\")\n",
    "print(X_train.head())\n",
    "\n",
    "print(\"\\nStandardized X_test:\")\n",
    "print(X_test.head())\n"
   ]
  },
  {
   "cell_type": "markdown",
   "id": "84d0e4a4",
   "metadata": {
    "id": "84d0e4a4"
   },
   "source": [
    "### 15. Write a function.\n",
    "- i) Which can take the model and data as inputs.\n",
    "- ii) Fits the model with the train data.\n",
    "- iii) Makes predictions on the test set.\n",
    "- iv) Returns the Accuracy Score."
   ]
  },
  {
   "cell_type": "code",
   "execution_count": 11,
   "id": "e02c8c82",
   "metadata": {
    "id": "e02c8c82"
   },
   "outputs": [],
   "source": [
    "from sklearn.metrics import accuracy_score\n",
    "\n",
    "def train_and_evaluate(model, X_train, y_train, X_test, y_test):\n",
    "    \n",
    "    \n",
    "    model.fit(X_train, y_train)\n",
    "\n",
    "    \n",
    "    y_pred = model.predict(X_test)\n",
    "\n",
    "    \n",
    "    accuracy = accuracy_score(y_test, y_pred)\n",
    "\n",
    "    return accuracy\n"
   ]
  },
  {
   "cell_type": "markdown",
   "id": "e709b9d4",
   "metadata": {
    "id": "e709b9d4"
   },
   "source": [
    "### 16. Use the function and train a Logistic regression, KNN, Naive Bayes, Decision tree, Random Forest, Adaboost, GradientBoost, and Stacked Classifier models and make predictions on test data and evaluate the models, compare and write your conclusions and steps to be taken in future in order to improve the accuracy of the model."
   ]
  },
  {
   "cell_type": "code",
   "execution_count": 24,
   "id": "d2edd40f",
   "metadata": {},
   "outputs": [
    {
     "name": "stdout",
     "output_type": "stream",
     "text": [
      "          BMI Smoking AlcoholDrinking Stroke  PhysicalHealth  MentalHealth  \\\n",
      "303145  20.51      No              No     No             4.0           0.0   \n",
      "61634   30.82      No              No     No             0.0           0.0   \n",
      "117690  33.91      No              No     No             0.0           0.0   \n",
      "132104  21.59     Yes              No     No             0.0           0.0   \n",
      "262165  25.75      No              No     No             0.0           0.0   \n",
      "...       ...     ...             ...    ...             ...           ...   \n",
      "119879  29.65      No              No     No             0.0           0.0   \n",
      "259178  42.60     Yes              No     No             0.0           5.0   \n",
      "131932  31.19     Yes              No     No            12.0           6.0   \n",
      "146867  22.24      No              No     No             7.0           5.0   \n",
      "121958  36.39     Yes              No     No             0.0           0.0   \n",
      "\n",
      "       DiffWalking     Sex  AgeCategory   Race                 Diabetic  \\\n",
      "303145          No  Female        45-49  White                       No   \n",
      "61634           No  Female        70-74  Other                      Yes   \n",
      "117690          No    Male        50-54  White                      Yes   \n",
      "132104          No    Male  80 or older  White                       No   \n",
      "262165          No  Female        75-79  White                       No   \n",
      "...            ...     ...          ...    ...                      ...   \n",
      "119879          No    Male        60-64  White                       No   \n",
      "259178          No    Male        35-39  White                       No   \n",
      "131932          No    Male        65-69  White  No, borderline diabetes   \n",
      "146867          No  Female        18-24  White                       No   \n",
      "121958          No  Female        30-34  Black                       No   \n",
      "\n",
      "       PhysicalActivity  GenHealth  SleepTime Asthma KidneyDisease SkinCancer  \n",
      "303145              Yes  Excellent        8.0     No            No         No  \n",
      "61634               Yes  Very good        7.0     No           Yes         No  \n",
      "117690              Yes       Good        6.0     No            No         No  \n",
      "132104              Yes  Very good        8.0     No            No         No  \n",
      "262165              Yes  Very good        7.0    Yes            No         No  \n",
      "...                 ...        ...        ...    ...           ...        ...  \n",
      "119879               No       Good        8.0     No            No         No  \n",
      "259178              Yes       Good        6.0     No            No         No  \n",
      "131932               No  Very good        8.0     No            No         No  \n",
      "146867              Yes  Excellent        8.0     No            No         No  \n",
      "121958              Yes       Good        8.0    Yes            No         No  \n",
      "\n",
      "[223856 rows x 17 columns]\n",
      "          BMI Smoking AlcoholDrinking Stroke  PhysicalHealth  MentalHealth  \\\n",
      "271884  27.63     Yes              No     No             0.0          25.0   \n",
      "270361  21.95      No              No     No             0.0          20.0   \n",
      "219060  31.32     Yes              No     No             0.0           0.0   \n",
      "24010   40.35      No              No     No            30.0           0.0   \n",
      "181930  35.61     Yes              No     No            30.0          30.0   \n",
      "...       ...     ...             ...    ...             ...           ...   \n",
      "258889  25.09     Yes              No     No             0.0           0.0   \n",
      "199549  22.14      No              No     No             0.0           0.0   \n",
      "40243   35.19      No             Yes     No             0.0           7.0   \n",
      "109200  28.29      No              No     No            30.0          15.0   \n",
      "142745  34.33      No              No     No            15.0           0.0   \n",
      "\n",
      "       DiffWalking     Sex  AgeCategory      Race Diabetic PhysicalActivity  \\\n",
      "271884          No  Female        25-29  Hispanic       No              Yes   \n",
      "270361          No  Female        30-34     White       No              Yes   \n",
      "219060          No  Female        40-44     White       No              Yes   \n",
      "24010           No  Female        65-69     White       No               No   \n",
      "181930         Yes  Female        60-64     White       No               No   \n",
      "...            ...     ...          ...       ...      ...              ...   \n",
      "258889          No    Male        50-54     White       No              Yes   \n",
      "199549          No  Female        40-44  Hispanic       No              Yes   \n",
      "40243           No  Female        18-24     Black       No              Yes   \n",
      "109200         Yes    Male  80 or older     White       No               No   \n",
      "142745         Yes  Female        75-79     White       No              Yes   \n",
      "\n",
      "        GenHealth  SleepTime Asthma KidneyDisease SkinCancer  \n",
      "271884  Very good        7.0     No            No         No  \n",
      "270361  Excellent        6.0     No            No        Yes  \n",
      "219060  Very good        6.0    Yes            No         No  \n",
      "24010        Good        8.0     No            No         No  \n",
      "181930       Fair        4.0    Yes            No        Yes  \n",
      "...           ...        ...    ...           ...        ...  \n",
      "258889  Very good        6.0     No            No         No  \n",
      "199549  Excellent        6.0     No            No         No  \n",
      "40243   Very good        5.0     No            No         No  \n",
      "109200       Poor        8.0     No            No         No  \n",
      "142745       Fair        6.0     No            No         No  \n",
      "\n",
      "[95939 rows x 17 columns]\n",
      "303145    0.0\n",
      "61634     0.0\n",
      "117690    0.0\n",
      "132104    0.0\n",
      "262165    0.0\n",
      "         ... \n",
      "119879    0.0\n",
      "259178    0.0\n",
      "131932    0.0\n",
      "146867    0.0\n",
      "121958    0.0\n",
      "Name: HeartDisease, Length: 223856, dtype: float64\n",
      "271884    0.0\n",
      "270361    0.0\n",
      "219060    0.0\n",
      "24010     0.0\n",
      "181930    0.0\n",
      "         ... \n",
      "258889    0.0\n",
      "199549    0.0\n",
      "40243     0.0\n",
      "109200    0.0\n",
      "142745    0.0\n",
      "Name: HeartDisease, Length: 95939, dtype: float64\n",
      "\n",
      "Training and evaluating LogisticRegression...\n"
     ]
    },
    {
     "ename": "ValueError",
     "evalue": "could not convert string to float: 'No'",
     "output_type": "error",
     "traceback": [
      "\u001b[1;31m---------------------------------------------------------------------------\u001b[0m",
      "\u001b[1;31mValueError\u001b[0m                                Traceback (most recent call last)",
      "Cell \u001b[1;32mIn[24], line 76\u001b[0m\n\u001b[0;32m     73\u001b[0m \u001b[38;5;28mprint\u001b[39m(\u001b[38;5;124mf\u001b[39m\u001b[38;5;124m\"\u001b[39m\u001b[38;5;130;01m\\n\u001b[39;00m\u001b[38;5;124mTraining and evaluating \u001b[39m\u001b[38;5;132;01m{\u001b[39;00mmodel_name\u001b[38;5;132;01m}\u001b[39;00m\u001b[38;5;124m...\u001b[39m\u001b[38;5;124m\"\u001b[39m)\n\u001b[0;32m     75\u001b[0m \u001b[38;5;66;03m# Train and evaluate the model\u001b[39;00m\n\u001b[1;32m---> 76\u001b[0m accuracy \u001b[38;5;241m=\u001b[39m train_and_evaluate(model, X_train, y_train, X_test, y_test)\n\u001b[0;32m     77\u001b[0m \u001b[38;5;28mprint\u001b[39m(\u001b[38;5;124mf\u001b[39m\u001b[38;5;124m\"\u001b[39m\u001b[38;5;124mAccuracy on the test set: \u001b[39m\u001b[38;5;132;01m{\u001b[39;00maccuracy\u001b[38;5;132;01m:\u001b[39;00m\u001b[38;5;124m.4f\u001b[39m\u001b[38;5;132;01m}\u001b[39;00m\u001b[38;5;124m\"\u001b[39m)\n\u001b[0;32m     79\u001b[0m \u001b[38;5;66;03m# Cross-validation scores\u001b[39;00m\n",
      "Cell \u001b[1;32mIn[11], line 6\u001b[0m, in \u001b[0;36mtrain_and_evaluate\u001b[1;34m(model, X_train, y_train, X_test, y_test)\u001b[0m\n\u001b[0;32m      3\u001b[0m \u001b[38;5;28;01mdef\u001b[39;00m \u001b[38;5;21mtrain_and_evaluate\u001b[39m(model, X_train, y_train, X_test, y_test):\n\u001b[1;32m----> 6\u001b[0m     model\u001b[38;5;241m.\u001b[39mfit(X_train, y_train)\n\u001b[0;32m      9\u001b[0m     y_pred \u001b[38;5;241m=\u001b[39m model\u001b[38;5;241m.\u001b[39mpredict(X_test)\n\u001b[0;32m     12\u001b[0m     accuracy \u001b[38;5;241m=\u001b[39m accuracy_score(y_test, y_pred)\n",
      "File \u001b[1;32m~\\anaconda3\\Lib\\site-packages\\sklearn\\base.py:1151\u001b[0m, in \u001b[0;36m_fit_context.<locals>.decorator.<locals>.wrapper\u001b[1;34m(estimator, *args, **kwargs)\u001b[0m\n\u001b[0;32m   1144\u001b[0m     estimator\u001b[38;5;241m.\u001b[39m_validate_params()\n\u001b[0;32m   1146\u001b[0m \u001b[38;5;28;01mwith\u001b[39;00m config_context(\n\u001b[0;32m   1147\u001b[0m     skip_parameter_validation\u001b[38;5;241m=\u001b[39m(\n\u001b[0;32m   1148\u001b[0m         prefer_skip_nested_validation \u001b[38;5;129;01mor\u001b[39;00m global_skip_validation\n\u001b[0;32m   1149\u001b[0m     )\n\u001b[0;32m   1150\u001b[0m ):\n\u001b[1;32m-> 1151\u001b[0m     \u001b[38;5;28;01mreturn\u001b[39;00m fit_method(estimator, \u001b[38;5;241m*\u001b[39margs, \u001b[38;5;241m*\u001b[39m\u001b[38;5;241m*\u001b[39mkwargs)\n",
      "File \u001b[1;32m~\\anaconda3\\Lib\\site-packages\\sklearn\\linear_model\\_logistic.py:1207\u001b[0m, in \u001b[0;36mLogisticRegression.fit\u001b[1;34m(self, X, y, sample_weight)\u001b[0m\n\u001b[0;32m   1204\u001b[0m \u001b[38;5;28;01melse\u001b[39;00m:\n\u001b[0;32m   1205\u001b[0m     _dtype \u001b[38;5;241m=\u001b[39m [np\u001b[38;5;241m.\u001b[39mfloat64, np\u001b[38;5;241m.\u001b[39mfloat32]\n\u001b[1;32m-> 1207\u001b[0m X, y \u001b[38;5;241m=\u001b[39m \u001b[38;5;28mself\u001b[39m\u001b[38;5;241m.\u001b[39m_validate_data(\n\u001b[0;32m   1208\u001b[0m     X,\n\u001b[0;32m   1209\u001b[0m     y,\n\u001b[0;32m   1210\u001b[0m     accept_sparse\u001b[38;5;241m=\u001b[39m\u001b[38;5;124m\"\u001b[39m\u001b[38;5;124mcsr\u001b[39m\u001b[38;5;124m\"\u001b[39m,\n\u001b[0;32m   1211\u001b[0m     dtype\u001b[38;5;241m=\u001b[39m_dtype,\n\u001b[0;32m   1212\u001b[0m     order\u001b[38;5;241m=\u001b[39m\u001b[38;5;124m\"\u001b[39m\u001b[38;5;124mC\u001b[39m\u001b[38;5;124m\"\u001b[39m,\n\u001b[0;32m   1213\u001b[0m     accept_large_sparse\u001b[38;5;241m=\u001b[39msolver \u001b[38;5;129;01mnot\u001b[39;00m \u001b[38;5;129;01min\u001b[39;00m [\u001b[38;5;124m\"\u001b[39m\u001b[38;5;124mliblinear\u001b[39m\u001b[38;5;124m\"\u001b[39m, \u001b[38;5;124m\"\u001b[39m\u001b[38;5;124msag\u001b[39m\u001b[38;5;124m\"\u001b[39m, \u001b[38;5;124m\"\u001b[39m\u001b[38;5;124msaga\u001b[39m\u001b[38;5;124m\"\u001b[39m],\n\u001b[0;32m   1214\u001b[0m )\n\u001b[0;32m   1215\u001b[0m check_classification_targets(y)\n\u001b[0;32m   1216\u001b[0m \u001b[38;5;28mself\u001b[39m\u001b[38;5;241m.\u001b[39mclasses_ \u001b[38;5;241m=\u001b[39m np\u001b[38;5;241m.\u001b[39munique(y)\n",
      "File \u001b[1;32m~\\anaconda3\\Lib\\site-packages\\sklearn\\base.py:621\u001b[0m, in \u001b[0;36mBaseEstimator._validate_data\u001b[1;34m(self, X, y, reset, validate_separately, cast_to_ndarray, **check_params)\u001b[0m\n\u001b[0;32m    619\u001b[0m         y \u001b[38;5;241m=\u001b[39m check_array(y, input_name\u001b[38;5;241m=\u001b[39m\u001b[38;5;124m\"\u001b[39m\u001b[38;5;124my\u001b[39m\u001b[38;5;124m\"\u001b[39m, \u001b[38;5;241m*\u001b[39m\u001b[38;5;241m*\u001b[39mcheck_y_params)\n\u001b[0;32m    620\u001b[0m     \u001b[38;5;28;01melse\u001b[39;00m:\n\u001b[1;32m--> 621\u001b[0m         X, y \u001b[38;5;241m=\u001b[39m check_X_y(X, y, \u001b[38;5;241m*\u001b[39m\u001b[38;5;241m*\u001b[39mcheck_params)\n\u001b[0;32m    622\u001b[0m     out \u001b[38;5;241m=\u001b[39m X, y\n\u001b[0;32m    624\u001b[0m \u001b[38;5;28;01mif\u001b[39;00m \u001b[38;5;129;01mnot\u001b[39;00m no_val_X \u001b[38;5;129;01mand\u001b[39;00m check_params\u001b[38;5;241m.\u001b[39mget(\u001b[38;5;124m\"\u001b[39m\u001b[38;5;124mensure_2d\u001b[39m\u001b[38;5;124m\"\u001b[39m, \u001b[38;5;28;01mTrue\u001b[39;00m):\n",
      "File \u001b[1;32m~\\anaconda3\\Lib\\site-packages\\sklearn\\utils\\validation.py:1147\u001b[0m, in \u001b[0;36mcheck_X_y\u001b[1;34m(X, y, accept_sparse, accept_large_sparse, dtype, order, copy, force_all_finite, ensure_2d, allow_nd, multi_output, ensure_min_samples, ensure_min_features, y_numeric, estimator)\u001b[0m\n\u001b[0;32m   1142\u001b[0m         estimator_name \u001b[38;5;241m=\u001b[39m _check_estimator_name(estimator)\n\u001b[0;32m   1143\u001b[0m     \u001b[38;5;28;01mraise\u001b[39;00m \u001b[38;5;167;01mValueError\u001b[39;00m(\n\u001b[0;32m   1144\u001b[0m         \u001b[38;5;124mf\u001b[39m\u001b[38;5;124m\"\u001b[39m\u001b[38;5;132;01m{\u001b[39;00mestimator_name\u001b[38;5;132;01m}\u001b[39;00m\u001b[38;5;124m requires y to be passed, but the target y is None\u001b[39m\u001b[38;5;124m\"\u001b[39m\n\u001b[0;32m   1145\u001b[0m     )\n\u001b[1;32m-> 1147\u001b[0m X \u001b[38;5;241m=\u001b[39m check_array(\n\u001b[0;32m   1148\u001b[0m     X,\n\u001b[0;32m   1149\u001b[0m     accept_sparse\u001b[38;5;241m=\u001b[39maccept_sparse,\n\u001b[0;32m   1150\u001b[0m     accept_large_sparse\u001b[38;5;241m=\u001b[39maccept_large_sparse,\n\u001b[0;32m   1151\u001b[0m     dtype\u001b[38;5;241m=\u001b[39mdtype,\n\u001b[0;32m   1152\u001b[0m     order\u001b[38;5;241m=\u001b[39morder,\n\u001b[0;32m   1153\u001b[0m     copy\u001b[38;5;241m=\u001b[39mcopy,\n\u001b[0;32m   1154\u001b[0m     force_all_finite\u001b[38;5;241m=\u001b[39mforce_all_finite,\n\u001b[0;32m   1155\u001b[0m     ensure_2d\u001b[38;5;241m=\u001b[39mensure_2d,\n\u001b[0;32m   1156\u001b[0m     allow_nd\u001b[38;5;241m=\u001b[39mallow_nd,\n\u001b[0;32m   1157\u001b[0m     ensure_min_samples\u001b[38;5;241m=\u001b[39mensure_min_samples,\n\u001b[0;32m   1158\u001b[0m     ensure_min_features\u001b[38;5;241m=\u001b[39mensure_min_features,\n\u001b[0;32m   1159\u001b[0m     estimator\u001b[38;5;241m=\u001b[39mestimator,\n\u001b[0;32m   1160\u001b[0m     input_name\u001b[38;5;241m=\u001b[39m\u001b[38;5;124m\"\u001b[39m\u001b[38;5;124mX\u001b[39m\u001b[38;5;124m\"\u001b[39m,\n\u001b[0;32m   1161\u001b[0m )\n\u001b[0;32m   1163\u001b[0m y \u001b[38;5;241m=\u001b[39m _check_y(y, multi_output\u001b[38;5;241m=\u001b[39mmulti_output, y_numeric\u001b[38;5;241m=\u001b[39my_numeric, estimator\u001b[38;5;241m=\u001b[39mestimator)\n\u001b[0;32m   1165\u001b[0m check_consistent_length(X, y)\n",
      "File \u001b[1;32m~\\anaconda3\\Lib\\site-packages\\sklearn\\utils\\validation.py:917\u001b[0m, in \u001b[0;36mcheck_array\u001b[1;34m(array, accept_sparse, accept_large_sparse, dtype, order, copy, force_all_finite, ensure_2d, allow_nd, ensure_min_samples, ensure_min_features, estimator, input_name)\u001b[0m\n\u001b[0;32m    915\u001b[0m         array \u001b[38;5;241m=\u001b[39m xp\u001b[38;5;241m.\u001b[39mastype(array, dtype, copy\u001b[38;5;241m=\u001b[39m\u001b[38;5;28;01mFalse\u001b[39;00m)\n\u001b[0;32m    916\u001b[0m     \u001b[38;5;28;01melse\u001b[39;00m:\n\u001b[1;32m--> 917\u001b[0m         array \u001b[38;5;241m=\u001b[39m _asarray_with_order(array, order\u001b[38;5;241m=\u001b[39morder, dtype\u001b[38;5;241m=\u001b[39mdtype, xp\u001b[38;5;241m=\u001b[39mxp)\n\u001b[0;32m    918\u001b[0m \u001b[38;5;28;01mexcept\u001b[39;00m ComplexWarning \u001b[38;5;28;01mas\u001b[39;00m complex_warning:\n\u001b[0;32m    919\u001b[0m     \u001b[38;5;28;01mraise\u001b[39;00m \u001b[38;5;167;01mValueError\u001b[39;00m(\n\u001b[0;32m    920\u001b[0m         \u001b[38;5;124m\"\u001b[39m\u001b[38;5;124mComplex data not supported\u001b[39m\u001b[38;5;130;01m\\n\u001b[39;00m\u001b[38;5;132;01m{}\u001b[39;00m\u001b[38;5;130;01m\\n\u001b[39;00m\u001b[38;5;124m\"\u001b[39m\u001b[38;5;241m.\u001b[39mformat(array)\n\u001b[0;32m    921\u001b[0m     ) \u001b[38;5;28;01mfrom\u001b[39;00m \u001b[38;5;21;01mcomplex_warning\u001b[39;00m\n",
      "File \u001b[1;32m~\\anaconda3\\Lib\\site-packages\\sklearn\\utils\\_array_api.py:380\u001b[0m, in \u001b[0;36m_asarray_with_order\u001b[1;34m(array, dtype, order, copy, xp)\u001b[0m\n\u001b[0;32m    378\u001b[0m     array \u001b[38;5;241m=\u001b[39m numpy\u001b[38;5;241m.\u001b[39marray(array, order\u001b[38;5;241m=\u001b[39morder, dtype\u001b[38;5;241m=\u001b[39mdtype)\n\u001b[0;32m    379\u001b[0m \u001b[38;5;28;01melse\u001b[39;00m:\n\u001b[1;32m--> 380\u001b[0m     array \u001b[38;5;241m=\u001b[39m numpy\u001b[38;5;241m.\u001b[39masarray(array, order\u001b[38;5;241m=\u001b[39morder, dtype\u001b[38;5;241m=\u001b[39mdtype)\n\u001b[0;32m    382\u001b[0m \u001b[38;5;66;03m# At this point array is a NumPy ndarray. We convert it to an array\u001b[39;00m\n\u001b[0;32m    383\u001b[0m \u001b[38;5;66;03m# container that is consistent with the input's namespace.\u001b[39;00m\n\u001b[0;32m    384\u001b[0m \u001b[38;5;28;01mreturn\u001b[39;00m xp\u001b[38;5;241m.\u001b[39masarray(array)\n",
      "File \u001b[1;32m~\\anaconda3\\Lib\\site-packages\\pandas\\core\\generic.py:2070\u001b[0m, in \u001b[0;36mNDFrame.__array__\u001b[1;34m(self, dtype)\u001b[0m\n\u001b[0;32m   2069\u001b[0m \u001b[38;5;28;01mdef\u001b[39;00m \u001b[38;5;21m__array__\u001b[39m(\u001b[38;5;28mself\u001b[39m, dtype: npt\u001b[38;5;241m.\u001b[39mDTypeLike \u001b[38;5;241m|\u001b[39m \u001b[38;5;28;01mNone\u001b[39;00m \u001b[38;5;241m=\u001b[39m \u001b[38;5;28;01mNone\u001b[39;00m) \u001b[38;5;241m-\u001b[39m\u001b[38;5;241m>\u001b[39m np\u001b[38;5;241m.\u001b[39mndarray:\n\u001b[1;32m-> 2070\u001b[0m     \u001b[38;5;28;01mreturn\u001b[39;00m np\u001b[38;5;241m.\u001b[39masarray(\u001b[38;5;28mself\u001b[39m\u001b[38;5;241m.\u001b[39m_values, dtype\u001b[38;5;241m=\u001b[39mdtype)\n",
      "\u001b[1;31mValueError\u001b[0m: could not convert string to float: 'No'"
     ]
    }
   ],
   "source": [
    "from sklearn.linear_model import LogisticRegression\n",
    "from sklearn.neighbors import KNeighborsClassifier\n",
    "from sklearn.naive_bayes import GaussianNB\n",
    "from sklearn.tree import DecisionTreeClassifier\n",
    "from sklearn.ensemble import RandomForestClassifier, AdaBoostClassifier, GradientBoostingClassifier\n",
    "from sklearn.ensemble import StackingClassifier\n",
    "from sklearn.metrics import accuracy_score\n",
    "from sklearn.model_selection import cross_val_score\n",
    "from sklearn.model_selection import KFold\n",
    "from sklearn.ensemble import RandomForestClassifier\n",
    "target_column = 'HeartDisease'\n",
    "import pandas as pd\n",
    "from sklearn.model_selection import train_test_split\n",
    "from sklearn.preprocessing import LabelEncoder\n",
    "file_path = \"C:/Users/ASUS-NB/Downloads/heart_2020_cleaned.csv\"\n",
    "df = pd.read_csv(file_path)\n",
    "# Store the target column in y\n",
    "\n",
    "target_column='HeartDisease'\n",
    "uniques= df[target_column].unique()\n",
    "# print(uniques)\n",
    "df[target_column] = df[target_column].replace({\n",
    "    'No':0.0,\n",
    "    'Yes':1.0\n",
    "})\n",
    "\n",
    "# print(df[target_column])\n",
    "\n",
    "\n",
    "# Store the target column in y\n",
    "target_column = 'HeartDisease'\n",
    "y = df[target_column]\n",
    "\n",
    "# Store the rest of the columns in X\n",
    "X = df.drop(columns=[target_column])\n",
    "\n",
    "# print(X);\n",
    "# print(y);\n",
    "# \n",
    "\n",
    "test_size = 0.3\n",
    "\n",
    "\n",
    "X_train, X_test, y_train, y_test = train_test_split(X, y, test_size=test_size, random_state=42)\n",
    "print(X_train)\n",
    "print(X_test)\n",
    "print(y_train)\n",
    "print(y_test)\n",
    "# Define the classifiers\n",
    "logreg_model = LogisticRegression()\n",
    "knn_model = KNeighborsClassifier()\n",
    "nb_model = GaussianNB()\n",
    "dt_model = DecisionTreeClassifier()\n",
    "rf_model = RandomForestClassifier()\n",
    "adaboost_model = AdaBoostClassifier()\n",
    "gb_model = GradientBoostingClassifier()\n",
    "\n",
    "# Create a stacked classifier\n",
    "stacked_model = StackingClassifier(\n",
    "    estimators=[\n",
    "        ('rf', RandomForestClassifier()),\n",
    "        ('gb', GradientBoostingClassifier())\n",
    "    ],\n",
    "    final_estimator=LogisticRegression()\n",
    ")\n",
    "\n",
    "# List of models\n",
    "models = [logreg_model, knn_model, nb_model, dt_model, rf_model, adaboost_model, gb_model, stacked_model]\n",
    "\n",
    "# Train, evaluate, and compare the models\n",
    "for model in models:\n",
    "    model_name = type(model).__name__\n",
    "    print(f\"\\nTraining and evaluating {model_name}...\")\n",
    "\n",
    "    # Train and evaluate the model\n",
    "    accuracy = train_and_evaluate(model, X_train, y_train, X_test, y_test)\n",
    "    print(f\"Accuracy on the test set: {accuracy:.4f}\")\n",
    "\n",
    "    # Cross-validation scores\n",
    "    cv_scores = cross_val_score(model, X, y, cv=KFold(n_splits=5, shuffle=True, random_state=42))\n",
    "    print(f\"Cross-validation scores: {cv_scores}\")\n",
    "    print(f\"Mean Cross-validation score: {cv_scores.mean():.4f}\")"
   ]
  },
  {
   "cell_type": "markdown",
   "id": "K5f-IKPLV3bN",
   "metadata": {
    "id": "K5f-IKPLV3bN"
   },
   "source": [
    "### Conclusion"
   ]
  },
  {
   "cell_type": "code",
   "execution_count": null,
   "id": "e18c82e0",
   "metadata": {
    "id": "e18c82e0"
   },
   "outputs": [],
   "source": []
  },
  {
   "cell_type": "markdown",
   "id": "515596d0",
   "metadata": {
    "id": "515596d0"
   },
   "source": [
    "----\n",
    "## Happy Learning:)\n",
    "----"
   ]
  }
 ],
 "metadata": {
  "colab": {
   "collapsed_sections": [],
   "name": "Supervised Learning - Lab Session .ipynb",
   "provenance": []
  },
  "kernelspec": {
   "display_name": "Python 3 (ipykernel)",
   "language": "python",
   "name": "python3"
  },
  "language_info": {
   "codemirror_mode": {
    "name": "ipython",
    "version": 3
   },
   "file_extension": ".py",
   "mimetype": "text/x-python",
   "name": "python",
   "nbconvert_exporter": "python",
   "pygments_lexer": "ipython3",
   "version": "3.11.4"
  }
 },
 "nbformat": 4,
 "nbformat_minor": 5
}
